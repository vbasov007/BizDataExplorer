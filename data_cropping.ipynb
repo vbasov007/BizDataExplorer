{
 "cells": [
  {
   "cell_type": "code",
   "execution_count": null,
   "metadata": {},
   "outputs": [],
   "source": [
    "import pandas as pd\n",
    "import numpy as np\n",
    "\n",
    "\n",
    "def crop_data(source_df: pd.DataFrame, col_name: str, sum_by: str, less_then: float, replace_with: str):\n",
    "    unique_values = list(set(source_df[col_name].tolist()))\n",
    "\n",
    "    for val in unique_values:\n",
    "        s = source_df.loc[np.isin(source_df[col_name], val), sum_by].sum()\n",
    "        if s < less_then:\n",
    "            source_df.loc[source_df[col_name] == val, col_name] = replace_with"
   ]
  },
  {
   "cell_type": "code",
   "execution_count": null,
   "metadata": {},
   "outputs": [],
   "source": [
    "df = pd.DataFrame()"
   ]
  }
 ],
 "metadata": {
  "kernelspec": {
   "display_name": "Python 3",
   "language": "python",
   "name": "python3"
  }
 },
 "nbformat": 4,
 "nbformat_minor": 2
}
