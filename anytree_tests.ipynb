{
 "cells": [
  {
   "cell_type": "code",
   "execution_count": 1,
   "metadata": {},
   "outputs": [],
   "source": [
    "from anytree import Node, NodeMixin, RenderTree, PostOrderIter, AsciiStyle\n",
    "import uuid\n"
   ]
  },
  {
   "cell_type": "code",
   "execution_count": 30,
   "metadata": {},
   "outputs": [],
   "source": [
    "class My(NodeMixin):\n",
    "    def __init__(self, name, parent = None):\n",
    "        self.id = uuid.uuid1().hex\n",
    "        self.parent = parent\n",
    "        self.name = name\n",
    "    def __repr__(self):\n",
    "        return self.__str__()\n",
    "    def __str__(self):\n",
    "        return str((self.id, self.name))"
   ]
  },
  {
   "cell_type": "code",
   "execution_count": 31,
   "metadata": {},
   "outputs": [],
   "source": [
    "udo = My(\"Udo\")"
   ]
  },
  {
   "cell_type": "code",
   "execution_count": 32,
   "metadata": {},
   "outputs": [],
   "source": [
    "mark = My(\"Mark\", parent = udo)"
   ]
  },
  {
   "cell_type": "code",
   "execution_count": 33,
   "metadata": {},
   "outputs": [],
   "source": [
    "jenny=My(\"Jenny\", parent = udo)"
   ]
  },
  {
   "cell_type": "code",
   "execution_count": 34,
   "metadata": {},
   "outputs": [],
   "source": [
    "sofie=My(\"Sofie\", parent = mark)"
   ]
  },
  {
   "cell_type": "code",
   "execution_count": 35,
   "metadata": {},
   "outputs": [
    {
     "data": {
      "text/plain": [
       "('752d536efbd211e98fe074e5f983c808', 'bastard')"
      ]
     },
     "execution_count": 35,
     "metadata": {},
     "output_type": "execute_result"
    }
   ],
   "source": [
    "My(\"bastard\", parent=sofie)"
   ]
  },
  {
   "cell_type": "code",
   "execution_count": 36,
   "metadata": {},
   "outputs": [
    {
     "name": "stdout",
     "output_type": "stream",
     "text": [
      "('745c08befbd211e9aab874e5f983c808', 'Udo')\n",
      "├── ('747b01fafbd211e9a7ec74e5f983c808', 'Mark')\n",
      "│   └── ('74d5b30cfbd211e98c6b74e5f983c808', 'Sofie')\n",
      "│       └── ('752d536efbd211e98fe074e5f983c808', 'bastard')\n",
      "└── ('74967fb6fbd211e99d1474e5f983c808', 'Jenny')\n"
     ]
    }
   ],
   "source": [
    "print(RenderTree(udo))"
   ]
  },
  {
   "cell_type": "code",
   "execution_count": 48,
   "metadata": {},
   "outputs": [
    {
     "data": {
      "text/plain": [
       "['Sofie', 'Mark', 'Jenny', 'Udo']"
      ]
     },
     "execution_count": 48,
     "metadata": {},
     "output_type": "execute_result"
    }
   ],
   "source": [
    "[node.name for node in PostOrderIter(udo)]"
   ]
  },
  {
   "cell_type": "code",
   "execution_count": 51,
   "metadata": {},
   "outputs": [
    {
     "name": "stdout",
     "output_type": "stream",
     "text": [
      "Mark\n",
      "['Sofie', 'Mark']\n",
      "Jenny\n",
      "['Jenny']\n"
     ]
    }
   ],
   "source": [
    "for c in udo.children:\n",
    "    print(c.name)\n",
    "    print([node.name for node in PostOrderIter(c)])"
   ]
  },
  {
   "cell_type": "code",
   "execution_count": 37,
   "metadata": {},
   "outputs": [
    {
     "data": {
      "text/plain": [
       "('745c08befbd211e9aab874e5f983c808', 'Udo')"
      ]
     },
     "execution_count": 37,
     "metadata": {},
     "output_type": "execute_result"
    }
   ],
   "source": [
    "udo\n"
   ]
  },
  {
   "cell_type": "code",
   "execution_count": 38,
   "metadata": {},
   "outputs": [
    {
     "name": "stdout",
     "output_type": "stream",
     "text": [
      "('745c08befbd211e9aab874e5f983c808', 'Udo')\n"
     ]
    }
   ],
   "source": [
    "print(udo)"
   ]
  },
  {
   "cell_type": "code",
   "execution_count": 39,
   "metadata": {},
   "outputs": [
    {
     "data": {
      "text/plain": [
       "(('747b01fafbd211e9a7ec74e5f983c808', 'Mark'),\n",
       " ('74967fb6fbd211e99d1474e5f983c808', 'Jenny'))"
      ]
     },
     "execution_count": 39,
     "metadata": {},
     "output_type": "execute_result"
    }
   ],
   "source": [
    "udo.children\n"
   ]
  },
  {
   "cell_type": "code",
   "execution_count": 40,
   "metadata": {},
   "outputs": [
    {
     "data": {
      "text/plain": [
       "2"
      ]
     },
     "execution_count": 40,
     "metadata": {},
     "output_type": "execute_result"
    }
   ],
   "source": [
    "len(udo.children)"
   ]
  },
  {
   "cell_type": "code",
   "execution_count": 41,
   "metadata": {},
   "outputs": [
    {
     "data": {
      "text/plain": [
       "0"
      ]
     },
     "execution_count": 41,
     "metadata": {},
     "output_type": "execute_result"
    }
   ],
   "source": [
    "len(jenny.children)"
   ]
  },
  {
   "cell_type": "code",
   "execution_count": null,
   "metadata": {},
   "outputs": [],
   "source": []
  }
 ],
 "metadata": {
  "kernelspec": {
   "display_name": "Python 3",
   "language": "python",
   "name": "python3"
  },
  "language_info": {
   "codemirror_mode": {
    "name": "ipython",
    "version": 3
   },
   "file_extension": ".py",
   "mimetype": "text/x-python",
   "name": "python",
   "nbconvert_exporter": "python",
   "pygments_lexer": "ipython3",
   "version": "3.6.5"
  }
 },
 "nbformat": 4,
 "nbformat_minor": 2
}
