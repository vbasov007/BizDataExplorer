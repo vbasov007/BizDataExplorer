{
 "cells": [
  {
   "cell_type": "code",
   "execution_count": 1,
   "metadata": {},
   "outputs": [
    {
     "data": {
      "text/plain": [
       "3"
      ]
     },
     "execution_count": 1,
     "metadata": {},
     "output_type": "execute_result"
    }
   ],
   "source": [
    "1+2"
   ]
  },
  {
   "cell_type": "code",
   "execution_count": 13,
   "metadata": {},
   "outputs": [],
   "source": [
    "import pandas as pd\n",
    "import numpy as np\n",
    "\n",
    "\n",
    "def crop_data(source_df:pd.DataFrame, col_name: str, sum_by: str, less_then: float, replace_with: str):\n",
    "\n",
    "    unique_values = list(set(source_df[col_name].tolist()))\n",
    "\n",
    "    for val in unique_values:\n",
    "        s = source_df.loc[np.isin(source_df[col_name], val), sum_by].sum()\n",
    "        if s < less_then:\n",
    "            source_df.loc[source_df[col_name] == val, col_name] = replace_with\n"
   ]
  },
  {
   "cell_type": "code",
   "execution_count": 17,
   "metadata": {},
   "outputs": [],
   "source": [
    "data = {'col_1': [3, 2, 1, 0.5], 'col_2': ['a', 'b', 'c', 'c']}\n",
    "df = pd.DataFrame.from_dict(data)"
   ]
  },
  {
   "cell_type": "code",
   "execution_count": 18,
   "metadata": {},
   "outputs": [],
   "source": [
    "crop_data(df, 'col_2', 'col_1', 0.6, 'too small')"
   ]
  },
  {
   "cell_type": "code",
   "execution_count": 19,
   "metadata": {},
   "outputs": [
    {
     "data": {
      "text/html": [
       "<div>\n",
       "<style scoped>\n",
       "    .dataframe tbody tr th:only-of-type {\n",
       "        vertical-align: middle;\n",
       "    }\n",
       "\n",
       "    .dataframe tbody tr th {\n",
       "        vertical-align: top;\n",
       "    }\n",
       "\n",
       "    .dataframe thead th {\n",
       "        text-align: right;\n",
       "    }\n",
       "</style>\n",
       "<table border=\"1\" class=\"dataframe\">\n",
       "  <thead>\n",
       "    <tr style=\"text-align: right;\">\n",
       "      <th></th>\n",
       "      <th>col_1</th>\n",
       "      <th>col_2</th>\n",
       "    </tr>\n",
       "  </thead>\n",
       "  <tbody>\n",
       "    <tr>\n",
       "      <th>0</th>\n",
       "      <td>3.0</td>\n",
       "      <td>a</td>\n",
       "    </tr>\n",
       "    <tr>\n",
       "      <th>1</th>\n",
       "      <td>2.0</td>\n",
       "      <td>b</td>\n",
       "    </tr>\n",
       "    <tr>\n",
       "      <th>2</th>\n",
       "      <td>1.0</td>\n",
       "      <td>c</td>\n",
       "    </tr>\n",
       "    <tr>\n",
       "      <th>3</th>\n",
       "      <td>0.5</td>\n",
       "      <td>c</td>\n",
       "    </tr>\n",
       "  </tbody>\n",
       "</table>\n",
       "</div>"
      ],
      "text/plain": [
       "   col_1 col_2\n",
       "0    3.0     a\n",
       "1    2.0     b\n",
       "2    1.0     c\n",
       "3    0.5     c"
      ]
     },
     "execution_count": 19,
     "metadata": {},
     "output_type": "execute_result"
    }
   ],
   "source": [
    "df"
   ]
  },
  {
   "cell_type": "code",
   "execution_count": 22,
   "metadata": {},
   "outputs": [
    {
     "name": "stdout",
     "output_type": "stream",
     "text": [
      "                                                     \n",
      "                       \n",
      "  <li>a                                                             \n",
      "                                                             \n",
      "      Recursive a, {'b': {'c': {}}}                                        \n",
      "      <ul>                       \n",
      "  <li>b                                                             \n",
      "                                                             \n",
      "      Recursive b, {'c': {}}                                        \n",
      "      <ul>                       \n",
      "  <li>c                                                             \n",
      "                                                                \n",
      "  </li>                                                                     \n",
      "</ul>                                     \n",
      "                                                                \n",
      "  </li>                                                                     \n",
      "</ul>                                     \n",
      "                                                                \n",
      "  </li>                                                                     \n",
      "                                                               \n"
     ]
    }
   ],
   "source": [
    "from jinja2 import Template\n",
    "\n",
    "template = Template(\"\"\"                                                     \n",
    "{% for key, value in dictionary.items() recursive %}                       \n",
    "  <li>{{ key }}                                                             \n",
    "    {% if value %}                                                         \n",
    "      Recursive {{ key }}, {{value}}                                        \n",
    "      <ul>{{ loop(value.items())}}</ul>                                     \n",
    "    {% endif %}                                                            \n",
    "  </li>                                                                     \n",
    "{% endfor %}                                                               \n",
    "\"\"\")\n",
    "\n",
    "print(template.render(dictionary={'a': {'b': {'c': {}}}}))"
   ]
  },
  {
   "cell_type": "code",
   "execution_count": null,
   "metadata": {},
   "outputs": [],
   "source": []
  }
 ],
 "metadata": {
  "kernelspec": {
   "display_name": "Python 3",
   "language": "python",
   "name": "python3"
  },
  "language_info": {
   "codemirror_mode": {
    "name": "ipython",
    "version": 3
   },
   "file_extension": ".py",
   "mimetype": "text/x-python",
   "name": "python",
   "nbconvert_exporter": "python",
   "pygments_lexer": "ipython3",
   "version": "3.6.5"
  }
 },
 "nbformat": 4,
 "nbformat_minor": 2
}
